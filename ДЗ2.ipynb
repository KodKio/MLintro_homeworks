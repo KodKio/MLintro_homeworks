{
 "cells": [
  {
   "cell_type": "markdown",
   "metadata": {},
   "source": [
    "В качестве домашнего задания вам предлагается поработать над предсказанием погоды. Файл с данными вы найдете в соответствующей директории. Вам будет доступен датасет weather.csv, ПЕРВЫЕ 75% (shuffle = False) которого нужно взять для обучения, последние 25% - для тестирования.\n",
    "\n",
    "Требуется построить 4 модели которые будут предсказывать целевую переменную <b>RainTomorrow</b> с помощью:\n",
    "\n",
    "   1. логистической регрессии [sklearn.linear_model.LogisticRegression](https://scikit-learn.org/stable/modules/generated/sklearn.linear_model.LogisticRegression.html#sklearn.linear_model.LogisticRegression)\n",
    "   \n",
    "   2. метода ближайших соседей [sklearn.neighbors](https://scikit-learn.org/stable/modules/neighbors.html)\n",
    " \n",
    "   3. Байесовского классификатора [sklearn.naive_bayes](https://scikit-learn.org/stable/modules/naive_bayes.html)\n",
    "   \n",
    "   4. логистической регрессии реализованной самостоятельно\n",
    "\n",
    "Затем следует сравнить результаты моделей (по качеству и времени выполнения) и сделать вывод о том, какая модель и с какими параметрами даёт лучшие результаты.\n",
    "\n",
    "Не забывайте о том, что работа с признаками играет очень большую роль в построении хорошей модели.\n",
    "\n",
    "Краткое описание данных:\n",
    "\n",
    "    Date - Дата наблюдений\n",
    "    Location - Название локации, в которой расположена метеорологическая станция\n",
    "    MinTemp - Минимальная температура в градусах цельсия\n",
    "    MaxTemp - Максимальная температура в градусах цельсия\n",
    "    Rainfall - Количество осадков, зафиксированных за день в мм\n",
    "    Evaporation - Так называемое \"pan evaporation\" класса А (мм) за 24 часа до 9 утра\n",
    "    Sunshine - Число солнечных часов за день\n",
    "    WindGustDir - направление самого сильного порыва ветра за последние 24 часа\n",
    "    WindGustSpeed - скорость (км / ч) самого сильного порыва ветра за последние 24 часа\n",
    "    WindDir9am - направление ветра в 9 утра"
   ]
  },
  {
   "cell_type": "code",
   "execution_count": 64,
   "metadata": {
    "scrolled": true
   },
   "outputs": [],
   "source": [
    "import warnings\n",
    "warnings.filterwarnings(\"ignore\")\n",
    "import pandas as pd\n",
    "import numpy as np\n",
    "import seaborn as sns\n",
    "import time\n",
    "from sklearn.datasets import make_classification\n",
    "from sklearn.metrics import roc_auc_score\n",
    "from sklearn.linear_model import LogisticRegression\n",
    "from sklearn.neighbors import KNeighborsClassifier\n",
    "from sklearn.naive_bayes import MultinomialNB, BernoulliNB, ComplementNB\n",
    "from sklearn.model_selection import train_test_split, GridSearchCV, cross_val_score\n",
    "from sklearn.preprocessing import StandardScaler, OneHotEncoder, MinMaxScaler\n",
    "from sklearn.compose import ColumnTransformer\n",
    "from sklearn.pipeline import Pipeline\n",
    "from tqdm import tqdm_notebook\n",
    "import matplotlib.pyplot as plt\n",
    "from matplotlib import gridspec\n",
    "import timeit\n",
    "%matplotlib inline"
   ]
  },
  {
   "cell_type": "code",
   "execution_count": 2,
   "outputs": [
    {
     "name": "stdout",
     "output_type": "stream",
     "text": [
      "Enabling notebook extension jupyter-js-widgets/extension...\r\n",
      "      - Validating: \u001B[32mOK\u001B[0m\r\n"
     ]
    }
   ],
   "source": [
    "!jupyter nbextension enable --py widgetsnbextension"
   ],
   "metadata": {
    "collapsed": false
   }
  },
  {
   "cell_type": "code",
   "execution_count": 47,
   "metadata": {},
   "outputs": [],
   "source": [
    "X = pd.read_csv('weather.csv')"
   ]
  },
  {
   "cell_type": "code",
   "execution_count": 48,
   "metadata": {},
   "outputs": [],
   "source": [
    "y = X.RainTomorrow.replace({'No':0, 'Yes': 1})"
   ]
  },
  {
   "cell_type": "code",
   "execution_count": 49,
   "metadata": {},
   "outputs": [],
   "source": [
    "del X['RainTomorrow']"
   ]
  },
  {
   "cell_type": "markdown",
   "metadata": {},
   "source": [
    "# Реализация логистической регрессии\n",
    "__Логистическая регрессия__\n",
    "\n",
    "$$p(y|x) = a(x, \\theta) = \\sigma(\\langle x, \\theta \\rangle) = \\frac{1}{1 + \\exp(-\\langle \\theta, x_i \\rangle)}$$"
   ]
  },
  {
   "cell_type": "code",
   "execution_count": 91,
   "metadata": {},
   "outputs": [],
   "source": [
    "theta = np.array([1, 2, 3])\n",
    "\n",
    "X =  np.array([[ 1,  1, 1],\n",
    "               [-1, -2, 1],\n",
    "               [-1, -2, 2],\n",
    "               [-2, -2, -3]\n",
    "              ])\n",
    "\n",
    "y = np.array([1, 1, 0, 0])"
   ]
  },
  {
   "cell_type": "code",
   "execution_count": 92,
   "metadata": {},
   "outputs": [],
   "source": [
    "def probability(theta, X):\n",
    "    result = 1 / (1 + np.exp(-np.dot(X, theta)))\n",
    "    return result\n",
    "prob = probability(theta, X)\n",
    "\n",
    "\n",
    "assert type(prob) == np.ndarray, 'Возвращается неверный тип'\n",
    "assert prob.shape == (X.shape[0],), 'Неверный размер массива'\n",
    "assert (prob.round(3) == [0.998, 0.119, 0.731, 0.]).all(), 'Функция считается неверно'"
   ]
  },
  {
   "cell_type": "markdown",
   "metadata": {},
   "source": [
    "Функция предсказания метки класса, получает на вход вероятности принадлежности к классу 1 и выдает метки классов $y \\in \\{0, 1\\}$"
   ]
  },
  {
   "cell_type": "code",
   "execution_count": 93,
   "metadata": {
    "scrolled": true
   },
   "outputs": [],
   "source": [
    "def binary_class_prediction(theta, X, threshold =.5):\n",
    "    prob =  probability(theta, X)\n",
    "    result = np.where(prob > threshold, 1, 0)\n",
    "    return result\n",
    "\n",
    "y_pred = binary_class_prediction(theta, X)\n",
    "\n",
    "\n",
    "assert type(y_pred) == np.ndarray, 'Возвращается неверный тип'\n",
    "assert y_pred.shape == (X.shape[0],), 'Неверный размер массива'\n",
    "assert min(y_pred) == 0, 'Функция считается неверно'\n",
    "assert max(y_pred) == 1, 'Функция считается неверно'"
   ]
  },
  {
   "cell_type": "markdown",
   "metadata": {},
   "source": [
    "__Функционал качества логистической регрессии__\n",
    "\n",
    "Запишем правдободовие выборки для меток класса $y \\in \\{+1, -1\\}$ \n",
    "\n",
    "$$Likelihood(a, X^\\ell) = \\prod_{i = 1}^{\\ell} a(x_i,\\theta)^{[y_i = +1]} (1 - a(x_i, \\theta))^{[y_i = -1]} → \\operatorname*{max}_{\\theta}$$ \n",
    "\n",
    "Прологарифмируем правдоподобие выборки и перейдем к задаче минимизации:\n",
    "\n",
    "$$Q(a, X^\\ell) =     -\\sum_{i = 1}^{\\ell} \n",
    "        [y_i = +1] \\log a(x_i, \\theta)\n",
    "        +\n",
    "        [y_i = -1] \\log (1 - a(x_i, \\theta)) \\to \\operatorname*{min}_{\\theta}$$ \n",
    "        \n",
    "Подставим $a(x, \\theta)$ в функцинал качества:\n",
    "\n",
    "$$ Q(a, X^\\ell) = -\\sum_{i = 1}^{\\ell} \\left(\n",
    "    [y_i = +1]\n",
    "    \\log \\frac{1}{1 + \\exp(-\\langle \\theta, x_i \\rangle)}\n",
    "    +\n",
    "    [y_i = -1]\n",
    "    \\log \\frac{\\exp(-\\langle \\theta, x_i \\rangle)}{1 + \\exp(-\\langle \\theta, x_i \\rangle)}\n",
    "\\right)\n",
    "=\\\\\n",
    "=\n",
    "-\\sum_{i = 1}^{\\ell} \\left(\n",
    "    [y_i = +1]\n",
    "    \\log \\frac{1}{1 + \\exp(-\\langle \\theta, x_i \\rangle)}\n",
    "    +\n",
    "    [y_i = -1]\n",
    "    \\log \\frac{1}{1 + \\exp(\\langle \\theta, x_i \\rangle)}\n",
    "\\right)\n",
    "=\\\\\n",
    "=\n",
    "\\sum_{i = 1}^{\\ell}\n",
    "    \\log \\left(\n",
    "        1 + \\exp(-y_i \\langle \\theta, x_i \\rangle)\n",
    "    \\right) $$\n",
    "    "
   ]
  },
  {
   "cell_type": "markdown",
   "metadata": {},
   "source": [
    "Итоговый оптимизируемый функционал качества (logloss), записанный для меток классов $y \\in \\{+1, -1\\}$ и усредненный по выборке"
   ]
  },
  {
   "cell_type": "markdown",
   "metadata": {},
   "source": [
    "$$Q(a, X^\\ell) = \\frac{1}{\\ell}\\sum_{i = 1}^{\\ell}\n",
    "    \\log \\left(\n",
    "        1 + \\exp(-y_i \\langle \\theta, x_i \\rangle)\n",
    "    \\right) \\to \\operatorname*{min}_{\\theta}$$"
   ]
  },
  {
   "cell_type": "markdown",
   "metadata": {},
   "source": [
    "Реализуем его в функции logloss:"
   ]
  },
  {
   "cell_type": "code",
   "execution_count": 94,
   "metadata": {},
   "outputs": [],
   "source": [
    "def logloss(theta, X, y):\n",
    "    result = np.mean(y*np.log(1 + np.exp(-np.dot(X, theta))) + (1 - y)*np.log(1 + np.exp(np.dot(X, theta))))\n",
    "    return result"
   ]
  },
  {
   "cell_type": "code",
   "execution_count": 95,
   "metadata": {},
   "outputs": [],
   "source": [
    "assert logloss(theta, X, y).round(3) == 0.861, 'Функция считается неверно'"
   ]
  },
  {
   "cell_type": "markdown",
   "metadata": {},
   "source": [
    "__Алгоритм оптимизации функционала качества. Стохастический градиентный спуск__"
   ]
  },
  {
   "cell_type": "markdown",
   "metadata": {},
   "source": [
    "<b>Вход: </b> Выборка $X^\\ell$, темп обучения $h$\n",
    "\n",
    "<b>Выход: </b> оптимальный вектор весов $\\theta$\n",
    "\n",
    "1.  Инициализировать веса $\\theta$\n",
    "2.  Инициализировать оценку функционала качества: $Q(a, X^\\ell)$\n",
    "3.  <b>Повторять</b>: \n",
    "\n",
    "    Выбрать случайным образом подвыборку объектов $X^{batch} =\\{x_1, \\dots,x_n \\}$ из $X^{\\ell}$\n",
    "    \n",
    "    Рассчитать градиент функционала качества: $\\nabla Q(X^{batch}, \\theta)$\n",
    "    \n",
    "    Обновить веса: $\\theta := \\theta - h\\cdot \\nabla Q(X^{batch}, \\theta)$\n",
    "       \n",
    "    <b>Пока</b> значение $Q$ и/или веса $\\theta$ не сойдутся   "
   ]
  },
  {
   "cell_type": "markdown",
   "metadata": {},
   "source": [
    "Реализуем функцию рассчета градиента функционала качества"
   ]
  },
  {
   "cell_type": "markdown",
   "metadata": {},
   "source": [
    "$$\\frac{\\partial Q(a, X^{batch}) }{\\partial \\theta_j}   = \\frac{\\partial \\frac{1}{n}\\sum_{i = 1}^{n}\n",
    "    \\log \\left(\n",
    "        1 + \\exp(- y_i \\langle \\theta, x_i \\rangle)\n",
    "    \\right)} {\\partial \\theta_j}  = \\frac{1}{n}\\sum_{i = 1}^{n}\n",
    "     \\frac {1}{\n",
    "        1 + \\exp(- y_i \\langle \\theta, x_i \\rangle)} \\cdot  \\exp(- y_i \\langle \\theta, x_i \\rangle) \\cdot -y_i x_{ij}$$"
   ]
  },
  {
   "cell_type": "markdown",
   "metadata": {},
   "source": [
    "Реализуйте рассчет градиента в матричном виде:"
   ]
  },
  {
   "cell_type": "code",
   "execution_count": 96,
   "metadata": {},
   "outputs": [],
   "source": [
    "def gradient(theta, X, y):\n",
    "    result = np.mean((y * np.exp(-np.dot(X, theta)) + (1 - y) * np.exp(np.dot(X, theta))) * \\\n",
    "                     (y / (1 + np.exp(-np.dot(X, theta))) + (1 - y) / (1 + np.exp(np.dot(X, theta)))) * \\\n",
    "                     (-y * X.T), axis=1)\n",
    "    return result\n",
    "\n",
    "assert gradient(theta, X, y).shape == theta.shape, 'Неверный размер массива'"
   ]
  },
  {
   "cell_type": "markdown",
   "metadata": {},
   "source": [
    "Функция обучения уже реализована"
   ]
  },
  {
   "cell_type": "code",
   "execution_count": 97,
   "metadata": {},
   "outputs": [],
   "source": [
    "def fit(X, y, batch_size=10, h=0.05,  iters=100, plot=True):\n",
    "\n",
    "    # получаем размерности матрицы\n",
    "    size, dim = X.shape\n",
    "\n",
    "    # случайная начальная инициализация\n",
    "    theta = np.random.uniform(size=dim)\n",
    "    \n",
    "    errors = []\n",
    "    \n",
    "    theta_history = theta\n",
    "    colors = [plt.get_cmap('gist_rainbow')(i) for i in np.linspace(0,1,dim)]\n",
    "    \n",
    "    # plt \n",
    "    if plot:\n",
    "        fig = plt.figure(figsize=(15, 10))\n",
    "        ax1 = fig.add_subplot(221)\n",
    "        ax2 = fig.add_subplot(222)\n",
    "        ax3 = fig.add_subplot(212)\n",
    "        fig.suptitle('Gradient descent')\n",
    "        \n",
    "        \n",
    "    for _ in range(iters):  \n",
    "        \n",
    "        # берём случайный набор элементов\n",
    "        batch = np.random.choice(size, batch_size, replace=False)\n",
    "        X_batch = X[batch]\n",
    "        y_batch = y[batch]\n",
    "\n",
    "        # считаем производные\n",
    "        grad = gradient(theta, X_batch, y_batch)\n",
    "        \n",
    "        assert type(grad) == np.ndarray, 'неверный тип'\n",
    "        assert len(grad.shape) == 1, 'Необходимо вернуть одномерный вектор'\n",
    "        assert grad.shape[0] == len(theta), 'длина вектора должна быть равной количеству весов'\n",
    "        \n",
    "        \n",
    "        # Обновляем веса\n",
    "        \n",
    "        theta -= grad * h\n",
    "        \n",
    "        theta_history = np.vstack((theta_history, theta))\n",
    "        \n",
    "        # error\n",
    "        loss = logloss(theta, X, y)\n",
    "        errors.append(loss)\n",
    "        \n",
    "        if plot:\n",
    "            ax1.clear()            \n",
    "            ax1.scatter(range(dim), theta, label='Gradient solution')\n",
    "            ax1.legend(loc=\"upper left\")\n",
    "            ax1.set_title('theta')\n",
    "            ax1.set_ylabel(r'$\\bar \\beta$')\n",
    "            ax1.set_xlabel('weight ID')\n",
    "            \n",
    "            \n",
    "            ax2.plot(range(_+1), errors, 'g-')\n",
    "            ax2.set_title('logloss')\n",
    "            ax2.set_xlabel('iterations')\n",
    "            \n",
    "            ax3.plot(theta_history)\n",
    "            ax3.set_title('update theta')\n",
    "            ax3.set_ylabel('value')\n",
    "            ax3.set_xlabel('iterations')\n",
    "            time.sleep(0.05)\n",
    "            fig.canvas.draw()   \n",
    "            \n",
    "    return theta"
   ]
  },
  {
   "cell_type": "code",
   "execution_count": 98,
   "metadata": {},
   "outputs": [],
   "source": [
    "X, y = make_classification(n_samples=2000)"
   ]
  },
  {
   "cell_type": "code",
   "execution_count": 21,
   "metadata": {},
   "outputs": [
    {
     "data": {
      "text/plain": "<Figure size 1500x1000 with 3 Axes>",
      "image/png": "[encoded data removed]"
     },
     "metadata": {},
     "output_type": "display_data"
    }
   ],
   "source": [
    "optimal_theta = fit(X, y)"
   ]
  },
  {
   "cell_type": "code",
   "execution_count": 22,
   "metadata": {},
   "outputs": [],
   "source": [
    "y_pred = binary_class_prediction(optimal_theta, X)"
   ]
  },
  {
   "cell_type": "markdown",
   "metadata": {},
   "source": [
    "# Тестирование"
   ]
  },
  {
   "cell_type": "markdown",
   "metadata": {},
   "source": [
    "## Изучение данных"
   ]
  },
  {
   "cell_type": "code",
   "execution_count": 3,
   "metadata": {},
   "outputs": [
    {
     "data": {
      "text/plain": "         Date Location  MinTemp  MaxTemp  Rainfall  Evaporation  Sunshine  \\\n0  2008-12-01   Albury     13.4     22.9       0.6          NaN       NaN   \n1  2008-12-02   Albury      7.4     25.1       0.0          NaN       NaN   \n2  2008-12-03   Albury     12.9     25.7       0.0          NaN       NaN   \n3  2008-12-04   Albury      9.2     28.0       0.0          NaN       NaN   \n4  2008-12-05   Albury     17.5     32.3       1.0          NaN       NaN   \n\n  WindGustDir  WindGustSpeed WindDir9am  ... Humidity9am  Humidity3pm  \\\n0           W           44.0          W  ...        71.0         22.0   \n1         WNW           44.0        NNW  ...        44.0         25.0   \n2         WSW           46.0          W  ...        38.0         30.0   \n3          NE           24.0         SE  ...        45.0         16.0   \n4           W           41.0        ENE  ...        82.0         33.0   \n\n   Pressure9am  Pressure3pm  Cloud9am  Cloud3pm  Temp9am  Temp3pm  RainToday  \\\n0       1007.7       1007.1       8.0       NaN     16.9     21.8         No   \n1       1010.6       1007.8       NaN       NaN     17.2     24.3         No   \n2       1007.6       1008.7       NaN       2.0     21.0     23.2         No   \n3       1017.6       1012.8       NaN       NaN     18.1     26.5         No   \n4       1010.8       1006.0       7.0       8.0     17.8     29.7         No   \n\n   RainTomorrow  \n0            No  \n1            No  \n2            No  \n3            No  \n4            No  \n\n[5 rows x 23 columns]",
      "text/html": "<div>\n<style scoped>\n    .dataframe tbody tr th:only-of-type {\n        vertical-align: middle;\n    }\n\n    .dataframe tbody tr th {\n        vertical-align: top;\n    }\n\n    .dataframe thead th {\n        text-align: right;\n    }\n</style>\n<table border=\"1\" class=\"dataframe\">\n  <thead>\n    <tr style=\"text-align: right;\">\n      <th></th>\n      <th>Date</th>\n      <th>Location</th>\n      <th>MinTemp</th>\n      <th>MaxTemp</th>\n      <th>Rainfall</th>\n      <th>Evaporation</th>\n      <th>Sunshine</th>\n      <th>WindGustDir</th>\n      <th>WindGustSpeed</th>\n      <th>WindDir9am</th>\n      <th>...</th>\n      <th>Humidity9am</th>\n      <th>Humidity3pm</th>\n      <th>Pressure9am</th>\n      <th>Pressure3pm</th>\n      <th>Cloud9am</th>\n      <th>Cloud3pm</th>\n      <th>Temp9am</th>\n      <th>Temp3pm</th>\n      <th>RainToday</th>\n      <th>RainTomorrow</th>\n    </tr>\n  </thead>\n  <tbody>\n    <tr>\n      <th>0</th>\n      <td>2008-12-01</td>\n      <td>Albury</td>\n      <td>13.4</td>\n      <td>22.9</td>\n      <td>0.6</td>\n      <td>NaN</td>\n      <td>NaN</td>\n      <td>W</td>\n      <td>44.0</td>\n      <td>W</td>\n      <td>...</td>\n      <td>71.0</td>\n      <td>22.0</td>\n      <td>1007.7</td>\n      <td>1007.1</td>\n      <td>8.0</td>\n      <td>NaN</td>\n      <td>16.9</td>\n      <td>21.8</td>\n      <td>No</td>\n      <td>No</td>\n    </tr>\n    <tr>\n      <th>1</th>\n      <td>2008-12-02</td>\n      <td>Albury</td>\n      <td>7.4</td>\n      <td>25.1</td>\n      <td>0.0</td>\n      <td>NaN</td>\n      <td>NaN</td>\n      <td>WNW</td>\n      <td>44.0</td>\n      <td>NNW</td>\n      <td>...</td>\n      <td>44.0</td>\n      <td>25.0</td>\n      <td>1010.6</td>\n      <td>1007.8</td>\n      <td>NaN</td>\n      <td>NaN</td>\n      <td>17.2</td>\n      <td>24.3</td>\n      <td>No</td>\n      <td>No</td>\n    </tr>\n    <tr>\n      <th>2</th>\n      <td>2008-12-03</td>\n      <td>Albury</td>\n      <td>12.9</td>\n      <td>25.7</td>\n      <td>0.0</td>\n      <td>NaN</td>\n      <td>NaN</td>\n      <td>WSW</td>\n      <td>46.0</td>\n      <td>W</td>\n      <td>...</td>\n      <td>38.0</td>\n      <td>30.0</td>\n      <td>1007.6</td>\n      <td>1008.7</td>\n      <td>NaN</td>\n      <td>2.0</td>\n      <td>21.0</td>\n      <td>23.2</td>\n      <td>No</td>\n      <td>No</td>\n    </tr>\n    <tr>\n      <th>3</th>\n      <td>2008-12-04</td>\n      <td>Albury</td>\n      <td>9.2</td>\n      <td>28.0</td>\n      <td>0.0</td>\n      <td>NaN</td>\n      <td>NaN</td>\n      <td>NE</td>\n      <td>24.0</td>\n      <td>SE</td>\n      <td>...</td>\n      <td>45.0</td>\n      <td>16.0</td>\n      <td>1017.6</td>\n      <td>1012.8</td>\n      <td>NaN</td>\n      <td>NaN</td>\n      <td>18.1</td>\n      <td>26.5</td>\n      <td>No</td>\n      <td>No</td>\n    </tr>\n    <tr>\n      <th>4</th>\n      <td>2008-12-05</td>\n      <td>Albury</td>\n      <td>17.5</td>\n      <td>32.3</td>\n      <td>1.0</td>\n      <td>NaN</td>\n      <td>NaN</td>\n      <td>W</td>\n      <td>41.0</td>\n      <td>ENE</td>\n      <td>...</td>\n      <td>82.0</td>\n      <td>33.0</td>\n      <td>1010.8</td>\n      <td>1006.0</td>\n      <td>7.0</td>\n      <td>8.0</td>\n      <td>17.8</td>\n      <td>29.7</td>\n      <td>No</td>\n      <td>No</td>\n    </tr>\n  </tbody>\n</table>\n<p>5 rows × 23 columns</p>\n</div>"
     },
     "execution_count": 3,
     "metadata": {},
     "output_type": "execute_result"
    }
   ],
   "source": [
    "X = pd.read_csv(\"weather.csv\", index_col=\"Unnamed: 0\")\n",
    "X.head()"
   ]
  },
  {
   "cell_type": "code",
   "execution_count": 4,
   "metadata": {},
   "outputs": [],
   "source": [
    "y = X.RainTomorrow.replace({'No':0, 'Yes': 1})\n",
    "X = X.drop('RainTomorrow', axis=1)\n",
    "X = X.drop('Date', axis=1)\n",
    "X.RainToday = X.RainToday.replace({'No':0, 'Yes': 1})"
   ]
  },
  {
   "cell_type": "code",
   "execution_count": 5,
   "outputs": [],
   "source": [
    "X_train, X_test, y_train, y_test = train_test_split(X, y, test_size=0.25, shuffle=False)"
   ],
   "metadata": {
    "collapsed": false
   }
  },
  {
   "cell_type": "markdown",
   "source": [],
   "metadata": {
    "collapsed": false
   }
  },
  {
   "cell_type": "code",
   "execution_count": 6,
   "outputs": [
    {
     "data": {
      "text/plain": "array(['Albany'], dtype=object)"
     },
     "execution_count": 6,
     "metadata": {},
     "output_type": "execute_result"
    }
   ],
   "source": [
    "X_test[\"Location\"].unique()[np.in1d(X_test[\"Location\"].unique(), X_train[\"Location\"].unique())]"
   ],
   "metadata": {
    "collapsed": false
   }
  },
  {
   "cell_type": "markdown",
   "source": [
    "__Так как у нас пересечение по локациям только в одном месте, то можно убрать этот признак__"
   ],
   "metadata": {
    "collapsed": false
   }
  },
  {
   "cell_type": "code",
   "execution_count": 7,
   "outputs": [],
   "source": [
    "del X_train[\"Location\"]\n",
    "del X_test[\"Location\"]"
   ],
   "metadata": {
    "collapsed": false
   }
  },
  {
   "cell_type": "markdown",
   "source": [],
   "metadata": {
    "collapsed": false
   }
  },
  {
   "cell_type": "code",
   "execution_count": 8,
   "metadata": {},
   "outputs": [],
   "source": [
    "numeric_data = X_train.select_dtypes([np.number])\n",
    "categorical_data = X_train.select_dtypes(exclude=[np.number])"
   ]
  },
  {
   "cell_type": "code",
   "execution_count": 9,
   "metadata": {},
   "outputs": [
    {
     "data": {
      "text/plain": "<Figure size 1400x1000 with 2 Axes>",
      "image/png": "[encoded data removed]"
     },
     "metadata": {},
     "output_type": "display_data"
    }
   ],
   "source": [
    "numeric_data_mean = numeric_data.mean()\n",
    "numeric_features = numeric_data.columns\n",
    "\n",
    "X_train = X_train.fillna(numeric_data_mean)\n",
    "X_test = X_test.fillna(numeric_data_mean)\n",
    "\n",
    "correlation = X_train[numeric_features].corrwith(y_train).sort_values(ascending=False)\n",
    "\n",
    "fig, axs = plt.subplots(figsize=(14, 10), ncols=2)\n",
    "sns.barplot(y=numeric_features, x=correlation, ax=axs[0])\n",
    "axs[0].set_title('Correlation with target')\n",
    "sns.barplot(y=numeric_features, x=X_train[numeric_features].std(), ax=axs[1])\n",
    "axs[1].set_title('Standard deviation')\n",
    "plt.show()"
   ]
  },
  {
   "cell_type": "markdown",
   "metadata": {},
   "source": [
    "Нужно будет применить StandardScaler к числовым данным"
   ]
  },
  {
   "cell_type": "code",
   "execution_count": 10,
   "metadata": {},
   "outputs": [],
   "source": [
    "categorical_features = categorical_data.columns\n",
    "X_train[categorical_features] = X_train[categorical_features].fillna(\"NotGiven\")\n",
    "X_test[categorical_features] = X_test[categorical_features].fillna(\"NotGiven\")"
   ]
  },
  {
   "cell_type": "code",
   "execution_count": 11,
   "metadata": {},
   "outputs": [
    {
     "data": {
      "text/plain": "WindGustDir    16\nWindDir9am     16\nWindDir3pm     16\ndtype: int64"
     },
     "execution_count": 11,
     "metadata": {},
     "output_type": "execute_result"
    }
   ],
   "source": [
    "X[categorical_features].nunique()"
   ]
  },
  {
   "cell_type": "markdown",
   "metadata": {},
   "source": [
    "__А к категориальным данным OneHotEncoder__"
   ]
  },
  {
   "cell_type": "markdown",
   "metadata": {},
   "source": [
    "## Построение пайлайна"
   ]
  },
  {
   "cell_type": "code",
   "execution_count": 114,
   "metadata": {},
   "outputs": [],
   "source": [
    "def makePipelineForStandardData(model):\n",
    "    column_transformer = ColumnTransformer(transformers=[\n",
    "        ('numeric', StandardScaler(), numeric_features),\n",
    "        ('categorical', OneHotEncoder(handle_unknown='ignore'), categorical_features)\n",
    "    ])\n",
    "\n",
    "    return Pipeline(steps=[\n",
    "        ('column_transformer', column_transformer),\n",
    "        ('model', model)\n",
    "    ])"
   ]
  },
  {
   "cell_type": "markdown",
   "metadata": {},
   "source": [
    "## Логистическая Регрессия sklearn"
   ]
  },
  {
   "cell_type": "code",
   "execution_count": 115,
   "metadata": {},
   "outputs": [
    {
     "name": "stdout",
     "output_type": "stream",
     "text": [
      "Train ROCAUC score: 0.7119\n",
      "Test ROCAUC score: 0.7119\n",
      "Mean CV ROCAUC: 0.8547\n"
     ]
    }
   ],
   "source": [
    "logreg_pipeline = makePipelineForStandardData(LogisticRegression(solver='liblinear'))\n",
    "logreg_model = logreg_pipeline.fit(X_train, y_train)\n",
    "\n",
    "logreg_y_train_pred = logreg_model.predict(X_train)\n",
    "logreg_y_pred = logreg_model.predict(X_test)\n",
    "\n",
    "logreg_standard_train_score = roc_auc_score(y_train, logreg_y_train_pred)\n",
    "logreg_standard_test_score = roc_auc_score(y_test, logreg_y_pred)\n",
    "print(\"Train ROCAUC score: %.4f\" % logreg_standard_test_score)\n",
    "print(\"Test ROCAUC score: %.4f\" % logreg_standard_test_score)\n",
    "\n",
    "logreg_standard_score = cross_val_score(logreg_model, X_train, y_train, cv=5, scoring='roc_auc').mean()\n",
    "print(\"Mean CV ROCAUC: %.4f\" % logreg_standard_score)"
   ]
  },
  {
   "cell_type": "markdown",
   "metadata": {},
   "source": [
    "### Подбор гиперпараметров"
   ]
  },
  {
   "cell_type": "code",
   "execution_count": 116,
   "metadata": {},
   "outputs": [],
   "source": [
    "logreg_grid_params = {\n",
    "    'model__C' : np.logspace(-3, 3, 10),\n",
    "    'model__penalty': ['l1', 'l2'],\n",
    "    'model__max_iter': [20, 50, 100]\n",
    "}"
   ]
  },
  {
   "cell_type": "code",
   "execution_count": 117,
   "metadata": {},
   "outputs": [
    {
     "name": "stderr",
     "output_type": "stream",
     "text": [
      "/Users/nikolaystepanov/opt/anaconda3/envs/mvp/lib/python3.10/site-packages/sklearn/svm/_base.py:1244: ConvergenceWarning: Liblinear failed to converge, increase the number of iterations.\n",
      "  warnings.warn(\n",
      "/Users/nikolaystepanov/opt/anaconda3/envs/mvp/lib/python3.10/site-packages/sklearn/svm/_base.py:1244: ConvergenceWarning: Liblinear failed to converge, increase the number of iterations.\n",
      "  warnings.warn(\n",
      "/Users/nikolaystepanov/opt/anaconda3/envs/mvp/lib/python3.10/site-packages/sklearn/svm/_base.py:1244: ConvergenceWarning: Liblinear failed to converge, increase the number of iterations.\n",
      "  warnings.warn(\n",
      "/Users/nikolaystepanov/opt/anaconda3/envs/mvp/lib/python3.10/site-packages/sklearn/svm/_base.py:1244: ConvergenceWarning: Liblinear failed to converge, increase the number of iterations.\n",
      "  warnings.warn(\n",
      "/Users/nikolaystepanov/opt/anaconda3/envs/mvp/lib/python3.10/site-packages/sklearn/svm/_base.py:1244: ConvergenceWarning: Liblinear failed to converge, increase the number of iterations.\n",
      "  warnings.warn(\n",
      "/Users/nikolaystepanov/opt/anaconda3/envs/mvp/lib/python3.10/site-packages/sklearn/svm/_base.py:1244: ConvergenceWarning: Liblinear failed to converge, increase the number of iterations.\n",
      "  warnings.warn(\n",
      "/Users/nikolaystepanov/opt/anaconda3/envs/mvp/lib/python3.10/site-packages/sklearn/svm/_base.py:1244: ConvergenceWarning: Liblinear failed to converge, increase the number of iterations.\n",
      "  warnings.warn(\n",
      "/Users/nikolaystepanov/opt/anaconda3/envs/mvp/lib/python3.10/site-packages/sklearn/svm/_base.py:1244: ConvergenceWarning: Liblinear failed to converge, increase the number of iterations.\n",
      "  warnings.warn(\n",
      "/Users/nikolaystepanov/opt/anaconda3/envs/mvp/lib/python3.10/site-packages/sklearn/svm/_base.py:1244: ConvergenceWarning: Liblinear failed to converge, increase the number of iterations.\n",
      "  warnings.warn(\n",
      "/Users/nikolaystepanov/opt/anaconda3/envs/mvp/lib/python3.10/site-packages/sklearn/svm/_base.py:1244: ConvergenceWarning: Liblinear failed to converge, increase the number of iterations.\n",
      "  warnings.warn(\n",
      "/Users/nikolaystepanov/opt/anaconda3/envs/mvp/lib/python3.10/site-packages/sklearn/svm/_base.py:1244: ConvergenceWarning: Liblinear failed to converge, increase the number of iterations.\n",
      "  warnings.warn(\n",
      "/Users/nikolaystepanov/opt/anaconda3/envs/mvp/lib/python3.10/site-packages/sklearn/svm/_base.py:1244: ConvergenceWarning: Liblinear failed to converge, increase the number of iterations.\n",
      "  warnings.warn(\n",
      "/Users/nikolaystepanov/opt/anaconda3/envs/mvp/lib/python3.10/site-packages/sklearn/svm/_base.py:1244: ConvergenceWarning: Liblinear failed to converge, increase the number of iterations.\n",
      "  warnings.warn(\n",
      "/Users/nikolaystepanov/opt/anaconda3/envs/mvp/lib/python3.10/site-packages/sklearn/svm/_base.py:1244: ConvergenceWarning: Liblinear failed to converge, increase the number of iterations.\n",
      "  warnings.warn(\n",
      "/Users/nikolaystepanov/opt/anaconda3/envs/mvp/lib/python3.10/site-packages/sklearn/svm/_base.py:1244: ConvergenceWarning: Liblinear failed to converge, increase the number of iterations.\n",
      "  warnings.warn(\n"
     ]
    },
    {
     "name": "stdout",
     "output_type": "stream",
     "text": [
      "Best LogReg penalty params:  l1\n",
      "Best LogReg C params: 0.0215\n",
      "Best LogReg max_iter params:  100\n",
      "Best LogReg score: 0.8553\n"
     ]
    }
   ],
   "source": [
    "logreg_grid_pipeline = makePipelineForStandardData(LogisticRegression(solver='liblinear'))\n",
    "logreg_grid = GridSearchCV(logreg_grid_pipeline, logreg_grid_params, cv=5, scoring='roc_auc', n_jobs=-1)\n",
    "logreg_grid.fit(X_train, y_train)\n",
    "\n",
    "logreg_best_penalty = logreg_grid.best_params_['model__penalty']\n",
    "logreg_best_C = logreg_grid.best_params_['model__C']\n",
    "logreg_best_max_iter = logreg_grid.best_params_['model__max_iter']\n",
    "logreg_best_score = logreg_grid.best_score_\n",
    "\n",
    "print(\"Best LogReg penalty params: \", logreg_best_penalty)\n",
    "print(\"Best LogReg C params: %.4f\" % logreg_best_C)\n",
    "print(\"Best LogReg max_iter params: \", logreg_best_max_iter)\n",
    "print(\"Best LogReg score: %.4f\" % logreg_best_score)"
   ]
  },
  {
   "cell_type": "markdown",
   "metadata": {},
   "source": [
    "### Логистическая регрессия c подобранными параметрами"
   ]
  },
  {
   "cell_type": "code",
   "execution_count": 118,
   "metadata": {},
   "outputs": [
    {
     "name": "stdout",
     "output_type": "stream",
     "text": [
      "Train ROCAUC score: 0.7163\n",
      "Test ROCAUC score: 0.7087\n",
      "Mean CV ROCAUC: 0.8553\n"
     ]
    }
   ],
   "source": [
    "logreg_model = logreg_grid.best_estimator_\n",
    "logreg_y_train_pred = logreg_model.predict(X_train)\n",
    "logreg_y_pred = logreg_model.predict(X_test)\n",
    "\n",
    "logreg_best_train_score = roc_auc_score(y_train, logreg_y_train_pred)\n",
    "logreg_best_test_score = roc_auc_score(y_test, logreg_y_pred)\n",
    "print(\"Train ROCAUC score: %.4f\" % logreg_best_train_score)\n",
    "print(\"Test ROCAUC score: %.4f\" % logreg_best_test_score)\n",
    "\n",
    "logreg_best_score = cross_val_score(logreg_model, X_train, y_train, cv=5, scoring='roc_auc').mean()\n",
    "print(\"Mean CV ROCAUC: %.4f\" % logreg_best_score)"
   ]
  },
  {
   "cell_type": "markdown",
   "metadata": {},
   "source": [
    "### Выводы"
   ]
  },
  {
   "cell_type": "code",
   "execution_count": 119,
   "metadata": {},
   "outputs": [
    {
     "data": {
      "text/plain": "                      Standard      Best\nLogreg train score    0.717661  0.716297\nLogreg test score     0.711937  0.708721\nLogreg Mean CV score  0.854744  0.855300",
      "text/html": "<div>\n<style scoped>\n    .dataframe tbody tr th:only-of-type {\n        vertical-align: middle;\n    }\n\n    .dataframe tbody tr th {\n        vertical-align: top;\n    }\n\n    .dataframe thead th {\n        text-align: right;\n    }\n</style>\n<table border=\"1\" class=\"dataframe\">\n  <thead>\n    <tr style=\"text-align: right;\">\n      <th></th>\n      <th>Standard</th>\n      <th>Best</th>\n    </tr>\n  </thead>\n  <tbody>\n    <tr>\n      <th>Logreg train score</th>\n      <td>0.717661</td>\n      <td>0.716297</td>\n    </tr>\n    <tr>\n      <th>Logreg test score</th>\n      <td>0.711937</td>\n      <td>0.708721</td>\n    </tr>\n    <tr>\n      <th>Logreg Mean CV score</th>\n      <td>0.854744</td>\n      <td>0.855300</td>\n    </tr>\n  </tbody>\n</table>\n</div>"
     },
     "execution_count": 119,
     "metadata": {},
     "output_type": "execute_result"
    }
   ],
   "source": [
    "logreg_results = pd.DataFrame({\n",
    "    \"Standard\" : [logreg_standard_train_score, logreg_standard_test_score, logreg_standard_score],\n",
    "    \"Best\" : [logreg_best_train_score, logreg_best_test_score, logreg_best_score]\n",
    "}, index=[\"Logreg train score\", \"Logreg test score\", \"Logreg Mean CV score\"])\n",
    "logreg_results"
   ]
  },
  {
   "cell_type": "markdown",
   "source": [
    "Как видно, применение гиперпараметров найденных с помощью GridSearchCV улучшает результат на кросс-валидации, но на отложенной выборке результат даже немного ухудшается"
   ],
   "metadata": {
    "collapsed": false
   }
  },
  {
   "cell_type": "markdown",
   "metadata": {},
   "source": [
    "## Kneighbours"
   ]
  },
  {
   "cell_type": "markdown",
   "metadata": {},
   "source": [
    "### Обработка данных для KNN"
   ]
  },
  {
   "cell_type": "code",
   "execution_count": 12,
   "metadata": {},
   "outputs": [],
   "source": [
    "knn_X_train = X_train.copy()\n",
    "knn_X_test = X_test.copy()"
   ]
  },
  {
   "cell_type": "code",
   "execution_count": 13,
   "metadata": {},
   "outputs": [
    {
     "data": {
      "text/plain": "Index(['MinTemp', 'MaxTemp', 'Rainfall', 'Evaporation', 'Sunshine',\n       'WindGustSpeed', 'WindSpeed9am', 'WindSpeed3pm', 'Humidity9am',\n       'Humidity3pm', 'Pressure9am', 'Pressure3pm', 'Cloud9am', 'Cloud3pm',\n       'Temp9am', 'Temp3pm', 'RainToday'],\n      dtype='object')"
     },
     "execution_count": 13,
     "metadata": {},
     "output_type": "execute_result"
    }
   ],
   "source": [
    "numeric_data.columns"
   ]
  },
  {
   "cell_type": "code",
   "execution_count": 14,
   "metadata": {},
   "outputs": [
    {
     "data": {
      "text/plain": "   MinTemp  MaxTemp  Rainfall  Evaporation  Sunshine WindGustDir  \\\n0     13.4     22.9       0.6     5.339228  7.382788           W   \n1      7.4     25.1       0.0     5.339228  7.382788         WNW   \n2     12.9     25.7       0.0     5.339228  7.382788         WSW   \n3      9.2     28.0       0.0     5.339228  7.382788          NE   \n4     17.5     32.3       1.0     5.339228  7.382788           W   \n\n   WindGustSpeed WindDir9am WindDir3pm  WindSpeed9am  WindSpeed3pm  \\\n0           44.0          W        WNW          20.0          24.0   \n1           44.0        NNW        WSW           4.0          22.0   \n2           46.0          W        WSW          19.0          26.0   \n3           24.0         SE          E          11.0           9.0   \n4           41.0        ENE         NW           7.0          20.0   \n\n   Humidity9am  Humidity3pm  Pressure9am  Pressure3pm  Cloud9am  Cloud3pm  \\\n0         71.0         22.0       1007.7       1007.1  8.000000   4.65577   \n1         44.0         25.0       1010.6       1007.8  4.597829   4.65577   \n2         38.0         30.0       1007.6       1008.7  4.597829   2.00000   \n3         45.0         16.0       1017.6       1012.8  4.597829   4.65577   \n4         82.0         33.0       1010.8       1006.0  7.000000   8.00000   \n\n   Temp9am  Temp3pm  RainToday  \n0     16.9     21.8        0.0  \n1     17.2     24.3        0.0  \n2     21.0     23.2        0.0  \n3     18.1     26.5        0.0  \n4     17.8     29.7        0.0  ",
      "text/html": "<div>\n<style scoped>\n    .dataframe tbody tr th:only-of-type {\n        vertical-align: middle;\n    }\n\n    .dataframe tbody tr th {\n        vertical-align: top;\n    }\n\n    .dataframe thead th {\n        text-align: right;\n    }\n</style>\n<table border=\"1\" class=\"dataframe\">\n  <thead>\n    <tr style=\"text-align: right;\">\n      <th></th>\n      <th>MinTemp</th>\n      <th>MaxTemp</th>\n      <th>Rainfall</th>\n      <th>Evaporation</th>\n      <th>Sunshine</th>\n      <th>WindGustDir</th>\n      <th>WindGustSpeed</th>\n      <th>WindDir9am</th>\n      <th>WindDir3pm</th>\n      <th>WindSpeed9am</th>\n      <th>WindSpeed3pm</th>\n      <th>Humidity9am</th>\n      <th>Humidity3pm</th>\n      <th>Pressure9am</th>\n      <th>Pressure3pm</th>\n      <th>Cloud9am</th>\n      <th>Cloud3pm</th>\n      <th>Temp9am</th>\n      <th>Temp3pm</th>\n      <th>RainToday</th>\n    </tr>\n  </thead>\n  <tbody>\n    <tr>\n      <th>0</th>\n      <td>13.4</td>\n      <td>22.9</td>\n      <td>0.6</td>\n      <td>5.339228</td>\n      <td>7.382788</td>\n      <td>W</td>\n      <td>44.0</td>\n      <td>W</td>\n      <td>WNW</td>\n      <td>20.0</td>\n      <td>24.0</td>\n      <td>71.0</td>\n      <td>22.0</td>\n      <td>1007.7</td>\n      <td>1007.1</td>\n      <td>8.000000</td>\n      <td>4.65577</td>\n      <td>16.9</td>\n      <td>21.8</td>\n      <td>0.0</td>\n    </tr>\n    <tr>\n      <th>1</th>\n      <td>7.4</td>\n      <td>25.1</td>\n      <td>0.0</td>\n      <td>5.339228</td>\n      <td>7.382788</td>\n      <td>WNW</td>\n      <td>44.0</td>\n      <td>NNW</td>\n      <td>WSW</td>\n      <td>4.0</td>\n      <td>22.0</td>\n      <td>44.0</td>\n      <td>25.0</td>\n      <td>1010.6</td>\n      <td>1007.8</td>\n      <td>4.597829</td>\n      <td>4.65577</td>\n      <td>17.2</td>\n      <td>24.3</td>\n      <td>0.0</td>\n    </tr>\n    <tr>\n      <th>2</th>\n      <td>12.9</td>\n      <td>25.7</td>\n      <td>0.0</td>\n      <td>5.339228</td>\n      <td>7.382788</td>\n      <td>WSW</td>\n      <td>46.0</td>\n      <td>W</td>\n      <td>WSW</td>\n      <td>19.0</td>\n      <td>26.0</td>\n      <td>38.0</td>\n      <td>30.0</td>\n      <td>1007.6</td>\n      <td>1008.7</td>\n      <td>4.597829</td>\n      <td>2.00000</td>\n      <td>21.0</td>\n      <td>23.2</td>\n      <td>0.0</td>\n    </tr>\n    <tr>\n      <th>3</th>\n      <td>9.2</td>\n      <td>28.0</td>\n      <td>0.0</td>\n      <td>5.339228</td>\n      <td>7.382788</td>\n      <td>NE</td>\n      <td>24.0</td>\n      <td>SE</td>\n      <td>E</td>\n      <td>11.0</td>\n      <td>9.0</td>\n      <td>45.0</td>\n      <td>16.0</td>\n      <td>1017.6</td>\n      <td>1012.8</td>\n      <td>4.597829</td>\n      <td>4.65577</td>\n      <td>18.1</td>\n      <td>26.5</td>\n      <td>0.0</td>\n    </tr>\n    <tr>\n      <th>4</th>\n      <td>17.5</td>\n      <td>32.3</td>\n      <td>1.0</td>\n      <td>5.339228</td>\n      <td>7.382788</td>\n      <td>W</td>\n      <td>41.0</td>\n      <td>ENE</td>\n      <td>NW</td>\n      <td>7.0</td>\n      <td>20.0</td>\n      <td>82.0</td>\n      <td>33.0</td>\n      <td>1010.8</td>\n      <td>1006.0</td>\n      <td>7.000000</td>\n      <td>8.00000</td>\n      <td>17.8</td>\n      <td>29.7</td>\n      <td>0.0</td>\n    </tr>\n  </tbody>\n</table>\n</div>"
     },
     "execution_count": 14,
     "metadata": {},
     "output_type": "execute_result"
    }
   ],
   "source": [
    "knn_X_train.head()"
   ]
  },
  {
   "cell_type": "markdown",
   "source": [
    "Для уменьшения размерности пространства, усредним значения признаков за 9 утра и 3 дня"
   ],
   "metadata": {
    "collapsed": false
   }
  },
  {
   "cell_type": "markdown",
   "metadata": {},
   "source": [
    "__Усредняем температуру__"
   ]
  },
  {
   "cell_type": "code",
   "execution_count": 15,
   "metadata": {},
   "outputs": [],
   "source": [
    "knn_X_train[\"Temp\"] = (knn_X_train[\"Temp9am\"] + knn_X_train[\"Temp3pm\"]) / 2\n",
    "knn_X_test[\"Temp\"] = (knn_X_test[\"Temp9am\"] + knn_X_test[\"Temp3pm\"]) / 2\n",
    "del knn_X_train[\"Temp9am\"]\n",
    "del knn_X_train[\"Temp3pm\"]\n",
    "del knn_X_test[\"Temp9am\"]\n",
    "del knn_X_test[\"Temp3pm\"]"
   ]
  },
  {
   "cell_type": "markdown",
   "metadata": {},
   "source": [
    "__Усредняем влажность__"
   ]
  },
  {
   "cell_type": "code",
   "execution_count": 16,
   "metadata": {},
   "outputs": [],
   "source": [
    "knn_X_train[\"Humidity\"] = (knn_X_train[\"Humidity9am\"] + knn_X_train[\"Humidity3pm\"]) / 2\n",
    "knn_X_test[\"Humidity\"] = (knn_X_test[\"Humidity9am\"] + knn_X_test[\"Humidity3pm\"]) / 2\n",
    "del knn_X_train[\"Humidity9am\"]\n",
    "del knn_X_train[\"Humidity3pm\"]\n",
    "del knn_X_test[\"Humidity9am\"]\n",
    "del knn_X_test[\"Humidity3pm\"]"
   ]
  },
  {
   "cell_type": "markdown",
   "metadata": {},
   "source": [
    "__Усредняем давление__"
   ]
  },
  {
   "cell_type": "code",
   "execution_count": 17,
   "metadata": {},
   "outputs": [],
   "source": [
    "knn_X_train[\"Pressure\"] = (knn_X_train[\"Pressure9am\"] + knn_X_train[\"Pressure3pm\"]) / 2\n",
    "knn_X_test[\"Pressure\"] = (knn_X_test[\"Pressure9am\"] + knn_X_test[\"Pressure3pm\"]) / 2\n",
    "del knn_X_train[\"Pressure9am\"]\n",
    "del knn_X_train[\"Pressure3pm\"]\n",
    "del knn_X_test[\"Pressure9am\"]\n",
    "del knn_X_test[\"Pressure3pm\"]"
   ]
  },
  {
   "cell_type": "markdown",
   "metadata": {},
   "source": [
    "__Усредняем скорость ветра__"
   ]
  },
  {
   "cell_type": "code",
   "execution_count": 18,
   "metadata": {},
   "outputs": [],
   "source": [
    "knn_X_train[\"WindSpeed\"] = (knn_X_train[\"WindSpeed9am\"] + knn_X_train[\"WindSpeed3pm\"]) / 2\n",
    "knn_X_test[\"WindSpeed\"] = (knn_X_test[\"WindSpeed9am\"] + knn_X_test[\"WindSpeed3pm\"]) / 2\n",
    "del knn_X_train[\"WindSpeed9am\"]\n",
    "del knn_X_train[\"WindSpeed3pm\"]\n",
    "del knn_X_test[\"WindSpeed9am\"]\n",
    "del knn_X_test[\"WindSpeed3pm\"]"
   ]
  },
  {
   "cell_type": "markdown",
   "metadata": {},
   "source": [
    "__Усредняем облачность__"
   ]
  },
  {
   "cell_type": "code",
   "execution_count": 19,
   "metadata": {},
   "outputs": [],
   "source": [
    "knn_X_train[\"Cloud\"] = (knn_X_train[\"Cloud9am\"] + knn_X_train[\"Cloud3pm\"]) / 2\n",
    "knn_X_test[\"Cloud\"] = (knn_X_test[\"Cloud9am\"] + knn_X_test[\"Cloud3pm\"]) / 2\n",
    "del knn_X_train[\"Cloud9am\"]\n",
    "del knn_X_train[\"Cloud3pm\"]\n",
    "del knn_X_test[\"Cloud9am\"]\n",
    "del knn_X_test[\"Cloud3pm\"]"
   ]
  },
  {
   "cell_type": "markdown",
   "source": [
    "__Вряд ли направление ветра сильно определяет погоду, поэтому удалим её, за одно избавимся от категориальных признаков, которые сильно увеличивают пространство после ohe__"
   ],
   "metadata": {
    "collapsed": false
   }
  },
  {
   "cell_type": "code",
   "execution_count": 20,
   "outputs": [],
   "source": [
    "del knn_X_train[\"WindGustDir\"]\n",
    "del knn_X_train[\"WindDir9am\"]\n",
    "del knn_X_train[\"WindDir3pm\"]\n",
    "del knn_X_test[\"WindGustDir\"]\n",
    "del knn_X_test[\"WindDir9am\"]\n",
    "del knn_X_test[\"WindDir3pm\"]"
   ],
   "metadata": {
    "collapsed": false
   }
  },
  {
   "cell_type": "code",
   "execution_count": 21,
   "metadata": {},
   "outputs": [
    {
     "data": {
      "text/plain": "   MinTemp  MaxTemp  Rainfall  Evaporation  Sunshine  WindGustSpeed  \\\n0     13.4     22.9       0.6     5.339228  7.382788           44.0   \n1      7.4     25.1       0.0     5.339228  7.382788           44.0   \n2     12.9     25.7       0.0     5.339228  7.382788           46.0   \n3      9.2     28.0       0.0     5.339228  7.382788           24.0   \n4     17.5     32.3       1.0     5.339228  7.382788           41.0   \n\n   RainToday   Temp  Humidity  Pressure  WindSpeed     Cloud  \n0        0.0  19.35      46.5   1007.40       22.0  6.327885  \n1        0.0  20.75      34.5   1009.20       13.0  4.626799  \n2        0.0  22.10      34.0   1008.15       22.5  3.298915  \n3        0.0  22.30      30.5   1015.20       10.0  4.626799  \n4        0.0  23.75      57.5   1008.40       13.5  7.500000  ",
      "text/html": "<div>\n<style scoped>\n    .dataframe tbody tr th:only-of-type {\n        vertical-align: middle;\n    }\n\n    .dataframe tbody tr th {\n        vertical-align: top;\n    }\n\n    .dataframe thead th {\n        text-align: right;\n    }\n</style>\n<table border=\"1\" class=\"dataframe\">\n  <thead>\n    <tr style=\"text-align: right;\">\n      <th></th>\n      <th>MinTemp</th>\n      <th>MaxTemp</th>\n      <th>Rainfall</th>\n      <th>Evaporation</th>\n      <th>Sunshine</th>\n      <th>WindGustSpeed</th>\n      <th>RainToday</th>\n      <th>Temp</th>\n      <th>Humidity</th>\n      <th>Pressure</th>\n      <th>WindSpeed</th>\n      <th>Cloud</th>\n    </tr>\n  </thead>\n  <tbody>\n    <tr>\n      <th>0</th>\n      <td>13.4</td>\n      <td>22.9</td>\n      <td>0.6</td>\n      <td>5.339228</td>\n      <td>7.382788</td>\n      <td>44.0</td>\n      <td>0.0</td>\n      <td>19.35</td>\n      <td>46.5</td>\n      <td>1007.40</td>\n      <td>22.0</td>\n      <td>6.327885</td>\n    </tr>\n    <tr>\n      <th>1</th>\n      <td>7.4</td>\n      <td>25.1</td>\n      <td>0.0</td>\n      <td>5.339228</td>\n      <td>7.382788</td>\n      <td>44.0</td>\n      <td>0.0</td>\n      <td>20.75</td>\n      <td>34.5</td>\n      <td>1009.20</td>\n      <td>13.0</td>\n      <td>4.626799</td>\n    </tr>\n    <tr>\n      <th>2</th>\n      <td>12.9</td>\n      <td>25.7</td>\n      <td>0.0</td>\n      <td>5.339228</td>\n      <td>7.382788</td>\n      <td>46.0</td>\n      <td>0.0</td>\n      <td>22.10</td>\n      <td>34.0</td>\n      <td>1008.15</td>\n      <td>22.5</td>\n      <td>3.298915</td>\n    </tr>\n    <tr>\n      <th>3</th>\n      <td>9.2</td>\n      <td>28.0</td>\n      <td>0.0</td>\n      <td>5.339228</td>\n      <td>7.382788</td>\n      <td>24.0</td>\n      <td>0.0</td>\n      <td>22.30</td>\n      <td>30.5</td>\n      <td>1015.20</td>\n      <td>10.0</td>\n      <td>4.626799</td>\n    </tr>\n    <tr>\n      <th>4</th>\n      <td>17.5</td>\n      <td>32.3</td>\n      <td>1.0</td>\n      <td>5.339228</td>\n      <td>7.382788</td>\n      <td>41.0</td>\n      <td>0.0</td>\n      <td>23.75</td>\n      <td>57.5</td>\n      <td>1008.40</td>\n      <td>13.5</td>\n      <td>7.500000</td>\n    </tr>\n  </tbody>\n</table>\n</div>"
     },
     "execution_count": 21,
     "metadata": {},
     "output_type": "execute_result"
    }
   ],
   "source": [
    "knn_X_train.head()"
   ]
  },
  {
   "cell_type": "code",
   "execution_count": 46,
   "metadata": {},
   "outputs": [],
   "source": [
    "knn_numeric_features = knn_X_train.select_dtypes([np.number]).columns\n",
    "\n",
    "def makePipelineForKNN(model):\n",
    "    column_transformer = ColumnTransformer(transformers=[\n",
    "        ('numeric', StandardScaler(), knn_numeric_features),\n",
    "    ])\n",
    "\n",
    "    return Pipeline(steps=[\n",
    "        ('column_transformer', column_transformer),\n",
    "        ('model', model)\n",
    "    ])"
   ]
  },
  {
   "cell_type": "markdown",
   "metadata": {},
   "source": [
    "### Построение модели"
   ]
  },
  {
   "cell_type": "code",
   "execution_count": 47,
   "metadata": {},
   "outputs": [
    {
     "name": "stdout",
     "output_type": "stream",
     "text": [
      "Train cleared ROCAUC score: 0.7712\n",
      "Test cleared ROCAUC score: 0.6798\n",
      "Mean CV ROCAUC: 0.7821\n"
     ]
    }
   ],
   "source": [
    "knn_pipeline = makePipelineForKNN(KNeighborsClassifier(algorithm='kd_tree', n_jobs=-1))\n",
    "knn_model = knn_pipeline.fit(knn_X_train, y_train)\n",
    "\n",
    "knn_y_train_pred = knn_model.predict(knn_X_train)\n",
    "knn_y_pred = knn_model.predict(knn_X_test)\n",
    "\n",
    "knn_standard_train_score = roc_auc_score(y_train, knn_y_train_pred)\n",
    "knn_standard_test_score = roc_auc_score(y_test, knn_y_pred)\n",
    "\n",
    "print(\"Train cleared ROCAUC score: %.4f\" % knn_standard_train_score)\n",
    "print(\"Test cleared ROCAUC score: %.4f\" % knn_standard_test_score)\n",
    "\n",
    "knn_standard_score = cross_val_score(knn_model, knn_X_train, y_train, cv=5, scoring='roc_auc').mean()\n",
    "print(\"Mean CV ROCAUC: %.4f\" % knn_standard_score)"
   ]
  },
  {
   "cell_type": "markdown",
   "source": [
    "### Подбор k"
   ],
   "metadata": {
    "collapsed": false
   }
  },
  {
   "cell_type": "code",
   "execution_count": 48,
   "outputs": [],
   "source": [
    "def linear_weights(distance):\n",
    "    k = distance.shape[1]\n",
    "    return ((k - np.arange(0, k))/k) * np.ones_like(distance)"
   ],
   "metadata": {
    "collapsed": false
   }
  },
  {
   "cell_type": "code",
   "execution_count": null,
   "outputs": [],
   "source": [
    "knn_grid_params = {\n",
    "    'model__n_neighbors': [i for i in range(1, 15, 2)],\n",
    "    'model__p': [1, 2, 3],\n",
    "}"
   ],
   "metadata": {
    "collapsed": false
   }
  },
  {
   "cell_type": "code",
   "execution_count": null,
   "outputs": [
    {
     "name": "stdout",
     "output_type": "stream",
     "text": [
      "Best KNN n_neighbors param:  13\n",
      "Best KNN p param:  3\n",
      "Best KNN score: 0.8157\n"
     ]
    }
   ],
   "source": [
    "knn_grid_pipeline = makePipelineForKNN(KNeighborsClassifier(algorithm='kd_tree',\n",
    "                                                                        weights=linear_weights,\n",
    "                                                                        n_jobs=-1))\n",
    "knn_grid = GridSearchCV(knn_grid_pipeline, knn_grid_params, cv=5, scoring='roc_auc', n_jobs=-1)\n",
    "knn_grid.fit(knn_X_train, y_train)\n",
    "\n",
    "knn_best_n_neighbors = knn_grid.best_params_['model__n_neighbors']\n",
    "knn_best_p = knn_grid.best_params_['model__p']\n",
    "knn_best_score = knn_grid.best_score_\n",
    "\n",
    "print(\"Best KNN n_neighbors param: \", knn_best_n_neighbors)\n",
    "print(\"Best KNN p param: \", knn_best_p)\n",
    "print(\"Best KNN score: %.4f\" % knn_best_score)"
   ],
   "metadata": {
    "collapsed": false,
    "pycharm": {
     "is_executing": true
    }
   }
  },
  {
   "cell_type": "markdown",
   "source": [
    "### KNN c подобранными параметрами"
   ],
   "metadata": {
    "collapsed": false
   }
  },
  {
   "cell_type": "code",
   "execution_count": 54,
   "outputs": [
    {
     "name": "stdout",
     "output_type": "stream",
     "text": [
      "Train ROCAUC score: 0.7566\n",
      "Test ROCAUC score: 0.6808\n",
      "Mean CV ROCAUC: 0.8157\n"
     ]
    }
   ],
   "source": [
    "knn_pipeline = makePipelineForKNN(KNeighborsClassifier(algorithm='kd_tree',\n",
    "                                                       n_neighbors=knn_best_n_neighbors,\n",
    "                                                       p=knn_best_p,\n",
    "                                                       weights=linear_weights,\n",
    "                                                       n_jobs=-1))\n",
    "knn_model = knn_pipeline.fit(knn_X_train, y_train)\n",
    "knn_y_train_pred = knn_model.predict(knn_X_train)\n",
    "knn_y_pred = knn_model.predict(knn_X_test)\n",
    "\n",
    "knn_best_train_score = roc_auc_score(y_train, knn_y_train_pred)\n",
    "knn_best_test_score = roc_auc_score(y_test, knn_y_pred)\n",
    "print(\"Train ROCAUC score: %.4f\" % knn_best_train_score)\n",
    "print(\"Test ROCAUC score: %.4f\" % knn_best_test_score)\n",
    "\n",
    "knn_best_score = cross_val_score(knn_model, knn_X_train, y_train, cv=5, scoring='roc_auc').mean()\n",
    "print(\"Mean CV ROCAUC: %.4f\" % knn_best_score)"
   ],
   "metadata": {
    "collapsed": false
   }
  },
  {
   "cell_type": "markdown",
   "source": [
    "# Выводы"
   ],
   "metadata": {
    "collapsed": false
   }
  },
  {
   "cell_type": "code",
   "execution_count": 55,
   "outputs": [
    {
     "data": {
      "text/plain": "                   Standard      Best\nKNN train score    0.771225  0.756609\nKNN test score     0.679755  0.680791\nKNN Mean CV score  0.782059  0.815673",
      "text/html": "<div>\n<style scoped>\n    .dataframe tbody tr th:only-of-type {\n        vertical-align: middle;\n    }\n\n    .dataframe tbody tr th {\n        vertical-align: top;\n    }\n\n    .dataframe thead th {\n        text-align: right;\n    }\n</style>\n<table border=\"1\" class=\"dataframe\">\n  <thead>\n    <tr style=\"text-align: right;\">\n      <th></th>\n      <th>Standard</th>\n      <th>Best</th>\n    </tr>\n  </thead>\n  <tbody>\n    <tr>\n      <th>KNN train score</th>\n      <td>0.771225</td>\n      <td>0.756609</td>\n    </tr>\n    <tr>\n      <th>KNN test score</th>\n      <td>0.679755</td>\n      <td>0.680791</td>\n    </tr>\n    <tr>\n      <th>KNN Mean CV score</th>\n      <td>0.782059</td>\n      <td>0.815673</td>\n    </tr>\n  </tbody>\n</table>\n</div>"
     },
     "execution_count": 55,
     "metadata": {},
     "output_type": "execute_result"
    }
   ],
   "source": [
    "knn_results = pd.DataFrame({\n",
    "    \"Standard\" : [knn_standard_train_score, knn_standard_test_score, knn_standard_score],\n",
    "    \"Best\" : [knn_best_train_score, knn_best_test_score, knn_best_score]\n",
    "}, index=[\"KNN train score\", \"KNN test score\", \"KNN Mean CV score\"])\n",
    "knn_results"
   ],
   "metadata": {
    "collapsed": false
   }
  },
  {
   "cell_type": "markdown",
   "source": [
    "Видно, что подбор гиперпараметров дал прирост в качестве, но логистическая регрессия все равно показывает лучший результат"
   ],
   "metadata": {
    "collapsed": false
   }
  },
  {
   "cell_type": "markdown",
   "source": [
    "## Naive bayes"
   ],
   "metadata": {
    "collapsed": false
   }
  },
  {
   "cell_type": "markdown",
   "source": [
    "### Построение модели"
   ],
   "metadata": {
    "collapsed": false
   }
  },
  {
   "cell_type": "code",
   "execution_count": 65,
   "outputs": [],
   "source": [
    "def makePipelineForNB(model):\n",
    "    column_transformer = ColumnTransformer(transformers=[\n",
    "        ('numeric', MinMaxScaler(), numeric_features),\n",
    "        ('categorical', OneHotEncoder(handle_unknown='ignore'), categorical_features)\n",
    "    ])\n",
    "\n",
    "    return Pipeline(steps=[\n",
    "        ('column_transformer', column_transformer),\n",
    "        ('model', model)\n",
    "    ])"
   ],
   "metadata": {
    "collapsed": false
   }
  },
  {
   "cell_type": "markdown",
   "source": [
    "#### MultinomialNB"
   ],
   "metadata": {
    "collapsed": false
   }
  },
  {
   "cell_type": "code",
   "execution_count": 66,
   "outputs": [
    {
     "name": "stdout",
     "output_type": "stream",
     "text": [
      "Train raw ROCAUC score: 0.5451\n",
      "Test raw ROCAUC score: 0.5628\n",
      "Mean CV ROCAUC: 0.7295\n"
     ]
    }
   ],
   "source": [
    "multinomial_nb_pipeline = makePipelineForNB(MultinomialNB())\n",
    "multinomial_nb_model = multinomial_nb_pipeline.fit(X_train, y_train)\n",
    "\n",
    "multinomial_nb_y_train_pred = multinomial_nb_model.predict(X_train)\n",
    "multinomial_nb_y_pred = multinomial_nb_model.predict(X_test)\n",
    "\n",
    "multinomial_nb_train_score = roc_auc_score(y_train, multinomial_nb_y_train_pred)\n",
    "multinomial_nb_test_score = roc_auc_score(y_test, multinomial_nb_y_pred)\n",
    "\n",
    "print(\"Train raw ROCAUC score: %.4f\" % multinomial_nb_train_score)\n",
    "print(\"Test raw ROCAUC score: %.4f\" % multinomial_nb_test_score)\n",
    "\n",
    "multinomial_nb_score = cross_val_score(multinomial_nb_model, X_train, y_train, cv=5,\n",
    "                                             scoring='roc_auc').mean()\n",
    "print(\"Mean CV ROCAUC: %.4f\" % multinomial_nb_score)"
   ],
   "metadata": {
    "collapsed": false
   }
  },
  {
   "cell_type": "markdown",
   "source": [
    "#### BernoulliNB"
   ],
   "metadata": {
    "collapsed": false
   }
  },
  {
   "cell_type": "code",
   "execution_count": 67,
   "outputs": [
    {
     "name": "stdout",
     "output_type": "stream",
     "text": [
      "Train ROCAUC score: 0.6540\n",
      "Test ROCAUC score: 0.6785\n",
      "Mean CV ROCAUC: 0.7153\n"
     ]
    }
   ],
   "source": [
    "bernoulli_nb_pipeline = makePipelineForNB(BernoulliNB())\n",
    "bernoulli_nb_model = bernoulli_nb_pipeline.fit(X_train, y_train)\n",
    "\n",
    "bernoulli_nb_y_train_pred = bernoulli_nb_model.predict(X_train)\n",
    "bernoulli_nb_y_pred = bernoulli_nb_model.predict(X_test)\n",
    "\n",
    "bernoulli_nb_train_score = roc_auc_score(y_train, bernoulli_nb_y_train_pred)\n",
    "bernoulli_nb_test_score = roc_auc_score(y_test, bernoulli_nb_y_pred)\n",
    "\n",
    "print(\"Train ROCAUC score: %.4f\" % bernoulli_nb_train_score)\n",
    "print(\"Test ROCAUC score: %.4f\" % bernoulli_nb_test_score)\n",
    "\n",
    "bernoulli_nb_score = cross_val_score(bernoulli_nb_model, X_train, y_train, cv=5,\n",
    "                                             scoring='roc_auc').mean()\n",
    "print(\"Mean CV ROCAUC: %.4f\" % bernoulli_nb_score)"
   ],
   "metadata": {
    "collapsed": false
   }
  },
  {
   "cell_type": "markdown",
   "source": [
    "#### ComplementNB"
   ],
   "metadata": {
    "collapsed": false
   }
  },
  {
   "cell_type": "code",
   "execution_count": 68,
   "outputs": [
    {
     "name": "stdout",
     "output_type": "stream",
     "text": [
      "Train ROCAUC score: 0.6926\n",
      "Test ROCAUC score: 0.7335\n",
      "Mean CV ROCAUC: 0.7295\n"
     ]
    }
   ],
   "source": [
    "complement_nb_pipeline = makePipelineForNB(ComplementNB())\n",
    "complement_nb_model = complement_nb_pipeline.fit(X_train, y_train)\n",
    "\n",
    "complement_nb_y_train_pred = complement_nb_model.predict(X_train)\n",
    "complement_nb_y_pred = complement_nb_model.predict(X_test)\n",
    "\n",
    "complement_nb_train_score = roc_auc_score(y_train, complement_nb_y_train_pred)\n",
    "complement_nb_test_score = roc_auc_score(y_test, complement_nb_y_pred)\n",
    "\n",
    "print(\"Train ROCAUC score: %.4f\" % complement_nb_train_score)\n",
    "print(\"Test ROCAUC score: %.4f\" % complement_nb_test_score)\n",
    "\n",
    "complement_nb_score = cross_val_score(complement_nb_model, X_train, y_train, cv=5,\n",
    "                                             scoring='roc_auc').mean()\n",
    "print(\"Mean CV ROCAUC: %.4f\" % complement_nb_score)"
   ],
   "metadata": {
    "collapsed": false
   }
  },
  {
   "cell_type": "markdown",
   "source": [
    "Как мы видим лучший результат дает ComplementNV, будем использовать его"
   ],
   "metadata": {
    "collapsed": false
   }
  },
  {
   "cell_type": "markdown",
   "source": [
    "### Подбор гиперпараметров"
   ],
   "metadata": {
    "collapsed": false
   }
  },
  {
   "cell_type": "code",
   "execution_count": 82,
   "outputs": [],
   "source": [
    "nb_grid_params = {\n",
    "    'model__alpha' : np.logspace(0, 3, 100),\n",
    "}"
   ],
   "metadata": {
    "collapsed": false
   }
  },
  {
   "cell_type": "code",
   "execution_count": 83,
   "outputs": [
    {
     "name": "stdout",
     "output_type": "stream",
     "text": [
      "Best Naive Bayes alpha param:  464.1588833612782\n",
      "Best Naive Bayes score: 0.7334\n"
     ]
    }
   ],
   "source": [
    "nb_grid_pipeline = makePipelineForNB(ComplementNB())\n",
    "nb_grid = GridSearchCV(nb_grid_pipeline, nb_grid_params, cv=5, scoring='roc_auc', n_jobs=-1)\n",
    "nb_grid.fit(X_train, y_train)\n",
    "\n",
    "nb_best_alpha = nb_grid.best_params_['model__alpha']\n",
    "nb_best_score = nb_grid.best_score_\n",
    "\n",
    "print(\"Best Naive Bayes alpha param: \", nb_best_alpha)\n",
    "print(\"Best Naive Bayes score: %.4f\" % nb_best_score)"
   ],
   "metadata": {
    "collapsed": false
   }
  },
  {
   "cell_type": "markdown",
   "source": [
    "### Naive bayes c подобранными параметрами"
   ],
   "metadata": {
    "collapsed": false
   }
  },
  {
   "cell_type": "code",
   "execution_count": 84,
   "outputs": [
    {
     "name": "stdout",
     "output_type": "stream",
     "text": [
      "Train ROCAUC score: 0.6898\n",
      "Test ROCAUC score: 0.7289\n",
      "Mean CV ROCAUC: 0.7334\n"
     ]
    }
   ],
   "source": [
    "nb_model = nb_grid.best_estimator_\n",
    "nb_y_train_pred = nb_model.predict(X_train)\n",
    "nb_y_pred = nb_model.predict(X_test)\n",
    "\n",
    "nb_best_train_score = roc_auc_score(y_train, nb_y_train_pred)\n",
    "nb_best_test_score = roc_auc_score(y_test, nb_y_pred)\n",
    "print(\"Train ROCAUC score: %.4f\" % nb_best_train_score)\n",
    "print(\"Test ROCAUC score: %.4f\" % nb_best_test_score)\n",
    "\n",
    "nb_best_score = cross_val_score(nb_model, X_train, y_train, cv=5, scoring='roc_auc').mean()\n",
    "print(\"Mean CV ROCAUC: %.4f\" % nb_best_score)"
   ],
   "metadata": {
    "collapsed": false
   }
  },
  {
   "cell_type": "markdown",
   "source": [
    "### Выводы"
   ],
   "metadata": {
    "collapsed": false
   }
  },
  {
   "cell_type": "code",
   "execution_count": 85,
   "outputs": [
    {
     "data": {
      "text/plain": "                           Standard      Best\nNaive Bayes train score    0.692561  0.689834\nNaive Bayes test score     0.733525  0.728946\nNaive Bayes Mean CV score  0.729533  0.733434",
      "text/html": "<div>\n<style scoped>\n    .dataframe tbody tr th:only-of-type {\n        vertical-align: middle;\n    }\n\n    .dataframe tbody tr th {\n        vertical-align: top;\n    }\n\n    .dataframe thead th {\n        text-align: right;\n    }\n</style>\n<table border=\"1\" class=\"dataframe\">\n  <thead>\n    <tr style=\"text-align: right;\">\n      <th></th>\n      <th>Standard</th>\n      <th>Best</th>\n    </tr>\n  </thead>\n  <tbody>\n    <tr>\n      <th>Naive Bayes train score</th>\n      <td>0.692561</td>\n      <td>0.689834</td>\n    </tr>\n    <tr>\n      <th>Naive Bayes test score</th>\n      <td>0.733525</td>\n      <td>0.728946</td>\n    </tr>\n    <tr>\n      <th>Naive Bayes Mean CV score</th>\n      <td>0.729533</td>\n      <td>0.733434</td>\n    </tr>\n  </tbody>\n</table>\n</div>"
     },
     "execution_count": 85,
     "metadata": {},
     "output_type": "execute_result"
    }
   ],
   "source": [
    "nb_results = pd.DataFrame({\n",
    "    \"Standard\" : [complement_nb_train_score, complement_nb_test_score, complement_nb_score],\n",
    "    \"Best\" : [nb_best_train_score, nb_best_test_score, nb_best_score]\n",
    "}, index=[\"Naive Bayes train score\", \"Naive Bayes test score\", \"Naive Bayes Mean CV score\"])\n",
    "nb_results"
   ],
   "metadata": {
    "collapsed": false
   }
  },
  {
   "cell_type": "markdown",
   "source": [
    "Наивный Байес показывает лучший результат на отложенной выборке, но худший на кросс-валидации"
   ],
   "metadata": {
    "collapsed": false
   }
  },
  {
   "cell_type": "markdown",
   "source": [
    "## Мой LogReg"
   ],
   "metadata": {
    "collapsed": false
   }
  },
  {
   "cell_type": "markdown",
   "source": [
    "### Предобработка данных"
   ],
   "metadata": {
    "collapsed": false
   }
  },
  {
   "cell_type": "code",
   "execution_count": 99,
   "outputs": [],
   "source": [
    "my_X_train = X_train.copy()\n",
    "my_X_test = X_test.copy()"
   ],
   "metadata": {
    "collapsed": false
   }
  },
  {
   "cell_type": "code",
   "execution_count": 100,
   "outputs": [],
   "source": [
    "def ohe_transform(X, features):\n",
    "    ohe = OneHotEncoder()\n",
    "    new_features = []\n",
    "    for feature in features:\n",
    "        new_ohe_feature = ohe.fit_transform(X[[feature]])\n",
    "        new_features.append(new_ohe_feature.toarray())\n",
    "    encoded_X = np.hstack((new_features[0], new_features[1]))\n",
    "    for i in range(2, len(new_features)):\n",
    "        encoded_X = np.hstack((encoded_X, new_features[i]))\n",
    "    return encoded_X\n",
    "\n",
    "def std_scaler_transform(X, features):\n",
    "    return StandardScaler().fit_transform(X[features])"
   ],
   "metadata": {
    "collapsed": false
   }
  },
  {
   "cell_type": "code",
   "execution_count": 101,
   "outputs": [],
   "source": [
    "my_X_train = np.hstack((ohe_transform(my_X_train, categorical_features), std_scaler_transform(my_X_train, numeric_features)))\n",
    "my_X_test = np.hstack((ohe_transform(my_X_test, categorical_features), std_scaler_transform(my_X_test, numeric_features)))"
   ],
   "metadata": {
    "collapsed": false
   }
  },
  {
   "cell_type": "code",
   "execution_count": 102,
   "outputs": [],
   "source": [
    "my_y_train = y_train.values\n",
    "my_y_test = y_test.values"
   ],
   "metadata": {
    "collapsed": false
   }
  },
  {
   "cell_type": "markdown",
   "source": [
    "### Построение модели"
   ],
   "metadata": {
    "collapsed": false
   }
  },
  {
   "cell_type": "code",
   "execution_count": 103,
   "outputs": [
    {
     "name": "stdout",
     "output_type": "stream",
     "text": [
      "Train ROCAUC score: 0.6004\n",
      "Test ROCAUC score: 0.5880\n"
     ]
    }
   ],
   "source": [
    "my_optimal_theta = fit(my_X_train, my_y_train, plot=False)\n",
    "\n",
    "my_y_train_pred = binary_class_prediction(my_optimal_theta, my_X_train)\n",
    "my_y_pred = binary_class_prediction(my_optimal_theta, my_X_test)\n",
    "\n",
    "my_standard_train_score = roc_auc_score(my_y_train, my_y_train_pred)\n",
    "my_standard_test_score = roc_auc_score(my_y_test, my_y_pred)\n",
    "\n",
    "print(\"Train ROCAUC score: %.4f\" % my_standard_train_score)\n",
    "print(\"Test ROCAUC score: %.4f\" % my_standard_test_score)"
   ],
   "metadata": {
    "collapsed": false
   }
  },
  {
   "cell_type": "markdown",
   "source": [
    "### Подбор гиперпараметров"
   ],
   "metadata": {
    "collapsed": false
   }
  },
  {
   "cell_type": "code",
   "execution_count": 120,
   "outputs": [],
   "source": [
    "batch_sizes = [10 + i * 5 for i in range(11)]\n",
    "hs = [0.001, 0.01, 0.02, 0.05, 0.1]"
   ],
   "metadata": {
    "collapsed": false
   }
  },
  {
   "cell_type": "code",
   "execution_count": 110,
   "outputs": [],
   "source": [
    "max_score = 0\n",
    "best_params = {\"batch\": -1, \"h\": -1, \"iters\": -1}\n",
    "best_theta = np.array([])\n",
    "for batch in batch_sizes:\n",
    "    for h in hs:\n",
    "        optimal_theta = fit(my_X_train, my_y_train, plot=False, batch_size=batch, h=h)\n",
    "        pred = binary_class_prediction(my_optimal_theta, my_X_train)\n",
    "        score = roc_auc_score(my_y_train, pred)\n",
    "        if max_score < score:\n",
    "            max_score = score\n",
    "            best_params[\"batch\"] = batch\n",
    "            best_params[\"h\"] = h\n",
    "            best_theta = optimal_theta"
   ],
   "metadata": {
    "collapsed": false
   }
  },
  {
   "cell_type": "markdown",
   "source": [
    "### Мой LogReg c подобранными параметрами"
   ],
   "metadata": {
    "collapsed": false
   }
  },
  {
   "cell_type": "code",
   "execution_count": 111,
   "outputs": [
    {
     "name": "stdout",
     "output_type": "stream",
     "text": [
      "Train ROCAUC score: 0.5511\n",
      "Test ROCAUC score: 0.5250\n"
     ]
    }
   ],
   "source": [
    "my_best_optimal_theta = best_theta\n",
    "\n",
    "my_best_y_train_pred = binary_class_prediction(my_best_optimal_theta, my_X_train)\n",
    "my_best_y_pred = binary_class_prediction(my_best_optimal_theta, my_X_test)\n",
    "\n",
    "my_best_train_score = roc_auc_score(my_y_train, my_best_y_train_pred)\n",
    "my_best_test_score = roc_auc_score(my_y_test, my_best_y_pred)\n",
    "\n",
    "print(\"Train ROCAUC score: %.4f\" % my_best_train_score)\n",
    "print(\"Test ROCAUC score: %.4f\" % my_best_test_score)"
   ],
   "metadata": {
    "collapsed": false
   }
  },
  {
   "cell_type": "markdown",
   "source": [
    "### Выводы"
   ],
   "metadata": {
    "collapsed": false
   }
  },
  {
   "cell_type": "code",
   "execution_count": 112,
   "outputs": [
    {
     "data": {
      "text/plain": "                Standard      Best\nMy train score  0.600358  0.551103\nMy test score   0.587975  0.525037",
      "text/html": "<div>\n<style scoped>\n    .dataframe tbody tr th:only-of-type {\n        vertical-align: middle;\n    }\n\n    .dataframe tbody tr th {\n        vertical-align: top;\n    }\n\n    .dataframe thead th {\n        text-align: right;\n    }\n</style>\n<table border=\"1\" class=\"dataframe\">\n  <thead>\n    <tr style=\"text-align: right;\">\n      <th></th>\n      <th>Standard</th>\n      <th>Best</th>\n    </tr>\n  </thead>\n  <tbody>\n    <tr>\n      <th>My train score</th>\n      <td>0.600358</td>\n      <td>0.551103</td>\n    </tr>\n    <tr>\n      <th>My test score</th>\n      <td>0.587975</td>\n      <td>0.525037</td>\n    </tr>\n  </tbody>\n</table>\n</div>"
     },
     "execution_count": 112,
     "metadata": {},
     "output_type": "execute_result"
    }
   ],
   "source": [
    "my_results = pd.DataFrame({\n",
    "    \"Standard\" : [my_standard_train_score, my_standard_test_score],\n",
    "    \"Best\" : [my_best_train_score, my_best_test_score]\n",
    "}, index=[\"My train score\", \"My test score\"])\n",
    "my_results"
   ],
   "metadata": {
    "collapsed": false
   }
  },
  {
   "cell_type": "markdown",
   "source": [
    "# Общий вывод"
   ],
   "metadata": {
    "collapsed": false
   }
  },
  {
   "cell_type": "code",
   "execution_count": 121,
   "outputs": [
    {
     "data": {
      "text/plain": "                           Standard      Best\nLogreg train score         0.717661  0.716297\nLogreg test score          0.711937  0.708721\nLogreg Mean CV score       0.854744  0.855300\nKNN train score            0.771225  0.756609\nKNN test score             0.679755  0.680791\nKNN Mean CV score          0.782059  0.815673\nNaive Bayes train score    0.692561  0.689834\nNaive Bayes test score     0.733525  0.728946\nNaive Bayes Mean CV score  0.729533  0.733434\nMy train score             0.600358  0.551103\nMy test score              0.587975  0.525037",
      "text/html": "<div>\n<style scoped>\n    .dataframe tbody tr th:only-of-type {\n        vertical-align: middle;\n    }\n\n    .dataframe tbody tr th {\n        vertical-align: top;\n    }\n\n    .dataframe thead th {\n        text-align: right;\n    }\n</style>\n<table border=\"1\" class=\"dataframe\">\n  <thead>\n    <tr style=\"text-align: right;\">\n      <th></th>\n      <th>Standard</th>\n      <th>Best</th>\n    </tr>\n  </thead>\n  <tbody>\n    <tr>\n      <th>Logreg train score</th>\n      <td>0.717661</td>\n      <td>0.716297</td>\n    </tr>\n    <tr>\n      <th>Logreg test score</th>\n      <td>0.711937</td>\n      <td>0.708721</td>\n    </tr>\n    <tr>\n      <th>Logreg Mean CV score</th>\n      <td>0.854744</td>\n      <td>0.855300</td>\n    </tr>\n    <tr>\n      <th>KNN train score</th>\n      <td>0.771225</td>\n      <td>0.756609</td>\n    </tr>\n    <tr>\n      <th>KNN test score</th>\n      <td>0.679755</td>\n      <td>0.680791</td>\n    </tr>\n    <tr>\n      <th>KNN Mean CV score</th>\n      <td>0.782059</td>\n      <td>0.815673</td>\n    </tr>\n    <tr>\n      <th>Naive Bayes train score</th>\n      <td>0.692561</td>\n      <td>0.689834</td>\n    </tr>\n    <tr>\n      <th>Naive Bayes test score</th>\n      <td>0.733525</td>\n      <td>0.728946</td>\n    </tr>\n    <tr>\n      <th>Naive Bayes Mean CV score</th>\n      <td>0.729533</td>\n      <td>0.733434</td>\n    </tr>\n    <tr>\n      <th>My train score</th>\n      <td>0.600358</td>\n      <td>0.551103</td>\n    </tr>\n    <tr>\n      <th>My test score</th>\n      <td>0.587975</td>\n      <td>0.525037</td>\n    </tr>\n  </tbody>\n</table>\n</div>"
     },
     "execution_count": 121,
     "metadata": {},
     "output_type": "execute_result"
    }
   ],
   "source": [
    "all_results = pd.concat([logreg_results, knn_results, nb_results, my_results])\n",
    "all_results"
   ],
   "metadata": {
    "collapsed": false
   }
  },
  {
   "cell_type": "markdown",
   "source": [
    "Как видно:\n",
    "1) на кросс-валидации лучшее качество у KNN с подобранными гиперпараметрами,\n",
    "2) на отложенной выборке у Наивного Байесовского классификатора со стандартными параметрами, это объясняется тем, что гиперпараметры были подобраны с помощью GrisSearchCV, а он выдает параметры для улучшения качаства на кросс-валидации"
   ],
   "metadata": {
    "collapsed": false
   }
  },
  {
   "cell_type": "code",
   "execution_count": null,
   "outputs": [],
   "source": [],
   "metadata": {
    "collapsed": false
   }
  }
 ],
 "metadata": {
  "kernelspec": {
   "display_name": "Python 3 (ipykernel)",
   "language": "python",
   "name": "python3"
  },
  "language_info": {
   "codemirror_mode": {
    "name": "ipython",
    "version": 3
   },
   "file_extension": ".py",
   "mimetype": "text/x-python",
   "name": "python",
   "nbconvert_exporter": "python",
   "pygments_lexer": "ipython3",
   "version": "3.10.9"
  }
 },
 "nbformat": 4,
 "nbformat_minor": 4
}
